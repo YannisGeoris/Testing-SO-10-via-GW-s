{
 "cells": [
  {
   "cell_type": "markdown",
   "metadata": {},
   "source": [
    "# Packages"
   ]
  },
  {
   "cell_type": "code",
   "execution_count": 17,
   "metadata": {},
   "outputs": [],
   "source": [
    "using BenchmarkTools\n",
    "using Cuba\n",
    "using LorentzVectors\n",
    "using Plots\n",
    "using DelimitedFiles\n",
    "using DataInterpolations\n",
    "using Polylogarithms"
   ]
  },
  {
   "cell_type": "markdown",
   "metadata": {},
   "source": [
    "# Tolerance integration"
   ]
  },
  {
   "cell_type": "code",
   "execution_count": 52,
   "metadata": {},
   "outputs": [
    {
     "data": {
      "text/plain": [
       "1.0e-5"
      ]
     },
     "execution_count": 52,
     "metadata": {},
     "output_type": "execute_result"
    }
   ],
   "source": [
    "tol = 1e-5"
   ]
  },
  {
   "cell_type": "markdown",
   "metadata": {},
   "source": [
    "# Constants of nature and Dynkin indices"
   ]
  },
  {
   "cell_type": "code",
   "execution_count": 53,
   "metadata": {},
   "outputs": [
    {
     "data": {
      "text/plain": [
       "1.0"
      ]
     },
     "execution_count": 53,
     "metadata": {},
     "output_type": "execute_result"
    }
   ],
   "source": [
    "############  Particle physics and cosmo constant ###############\n",
    "MP = 2.435*1e18              #[GeV]     Reduced Planck mass\n",
    "T0 = 2.72548*8.6173e-5*1e-9  #[GeV]     CMB temperature\n",
    "Tmax = 1e15                  #[GeV]     Maximal temperature of the plasma (should change that, maybe as an input parameter)\n",
    "g_Tmax = 178                 #          # of entropic dofs at the maximal temperature of the plasma\n",
    "g_Tew = 106.75               #          # of entropic dofs at the electroweak scale\n",
    "\n",
    "\n",
    "########### Dynkin indices SO(10) ######################\n",
    "#to change later, I just don't know for now (should be an array)\n",
    "T_fermion = 1       \n",
    "T_scalar = 1\n",
    "T_Ad = 1\n",
    "\n",
    "########### N_leptons and N_species ######################\n",
    "#Based on the Dynkin indices\n",
    "N_leptons = 1    #to change, I just don' know for now\n",
    "N_species = (sum(T_fermion)+sum(T_scalar))/2"
   ]
  },
  {
   "cell_type": "markdown",
   "metadata": {},
   "source": [
    "# Defining the Bose-Einstein distribution"
   ]
  },
  {
   "cell_type": "code",
   "execution_count": 54,
   "metadata": {},
   "outputs": [
    {
     "data": {
      "text/plain": [
       "nb (generic function with 1 method)"
      ]
     },
     "execution_count": 54,
     "metadata": {},
     "output_type": "execute_result"
    }
   ],
   "source": [
    "function nb(x)\n",
    "    return 1/(exp(x)-1)\n",
    "end"
   ]
  },
  {
   "cell_type": "markdown",
   "metadata": {},
   "source": [
    "# Defining the $\\hat{\\eta}$ functions"
   ]
  },
  {
   "cell_type": "code",
   "execution_count": 57,
   "metadata": {},
   "outputs": [
    {
     "data": {
      "text/plain": [
       "etafg (generic function with 1 method)"
      ]
     },
     "execution_count": 57,
     "metadata": {},
     "output_type": "execute_result"
    }
   ],
   "source": [
    "############## Define the L_i and M_i functions, necessary for the eta functions ############\n",
    "\n",
    "function L1p(x,y)\n",
    "    return log((1-exp(-(x+y)/2))/(1-exp((x-y)/2)))\n",
    "end\n",
    "function L1m(x,y)\n",
    "    return log((1+exp(-(x+y)/2))/(1+exp((x-y)/2)))\n",
    "end\n",
    "\n",
    "function L2p(x,y)\n",
    "    return real(polylog(2,exp((x-y)/2))-polylog(2,exp(-(x+y)/2)))\n",
    "end\n",
    "function L2m(x,y)\n",
    "    return real(polylog(2,-exp((x-y)/2))-polylog(2,-exp(-(x+y)/2)))\n",
    "end\n",
    "\n",
    "function L3p(x,y)\n",
    "    return real(polylog(3,exp((x-y)/2))-polylog(3,exp(-(x+y)/2)))\n",
    "end\n",
    "function L3m(x,y)\n",
    "    return real(polylog(3,-exp((x-y)/2))-polylog(3,-exp(-(x+y)/2)))\n",
    "end\n",
    "\n",
    "\n",
    "\n",
    "\n",
    "function M1p(x,y)\n",
    "    return log((1-exp(-(x-y)/2))/(1-exp(-(x+y)/2)))\n",
    "end\n",
    "function M1m(x,y)\n",
    "    return log((1+exp(-(x-y)/2))/(1+exp(-(x+y)/2)))\n",
    "end\n",
    "\n",
    "function M2p(x,y)\n",
    "    return real(polylog(2,exp(-(x+y)/2))+polylog(2,exp(-(x-y)/2)))\n",
    "end\n",
    "function M2m(x,y)\n",
    "    return real(polylog(2,-exp(-(x+y)/2))+polylog(2,-exp(-(x-y)/2)))\n",
    "end\n",
    "\n",
    "function M3p(x,y)\n",
    "    return real(polylog(3,exp(-(x+y)/2))-polylog(3,exp(-(x-y)/2)))\n",
    "end\n",
    "function M3m(x,y)\n",
    "    return real(polylog(3,-exp(-(x+y)/2))-polylog(3,-exp(-(x-y)/2)))\n",
    "end\n",
    "\n",
    "\n",
    "############## Define I,J,K,L's, which are lin. comb. of eta functions ##################\n",
    "\n",
    "function Ip(k)\n",
    "    xmin = -10\n",
    "    function boundary1(x)\n",
    "        return abs(x)\n",
    "    end\n",
    "    function boundary2(x)\n",
    "        return 2*k-x\n",
    "    end\n",
    "    function integrand(xx,ff)\n",
    "        x,y=xx\n",
    "        varchangex = (k-xmin)*x+xmin\n",
    "        varchangey = (boundary2(varchangex)-boundary1(varchangex))*y+boundary1(varchangex)\n",
    "        ff[1] = (k-xmin)*(boundary2(varchangex)-boundary1(varchangex))*((1+nb(varchangex)+nb(k-varchangex))*(-2/3*L1p(varchangex,varchangey)+(varchangey^2-3*(varchangex-2*k)^2)*(12*L3p(varchangex,varchangey)+6*varchangey*L2p(varchangex,varchangey)+varchangey^2*L1p(varchangex,varchangey))/6/varchangey^4)+4*k^2*pi^2/varchangey^4)*(varchangey^2-varchangex^2)\n",
    "    end\n",
    "    result = cuhre(integrand,atol = tol, rtol = tol).integral[1]\n",
    "    return nb(k)/(256*pi^3*k)*result\n",
    "end\n",
    "\n",
    "\n",
    "function Im(k)\n",
    "    xmin = -10\n",
    "    function boundary1(x)\n",
    "        return abs(x)\n",
    "    end\n",
    "    function boundary2(x)\n",
    "        return 2*k-x\n",
    "    end\n",
    "    function integrand(xx,ff)\n",
    "        x,y=xx\n",
    "        varchangex = (k-xmin)*x+xmin\n",
    "        varchangey = (boundary2(varchangex)-boundary1(varchangex))*y+boundary1(varchangex)\n",
    "        ff[1] = (k-xmin)*(boundary2(varchangex)-boundary1(varchangex))*((1+nb(varchangex)+nb(k-varchangex))*(-2/3*L1m(varchangex,varchangey)+(varchangey^2-3*(varchangex-2*k)^2)*(12*L3m(varchangex,varchangey)+6*varchangey*L2m(varchangex,varchangey)+varchangey^2*L1m(varchangex,varchangey))/6/varchangey^4)-2*k^2*pi^2/varchangey^4)*(varchangey^2-varchangex^2)\n",
    "    end\n",
    "    result = cuhre(integrand,atol = tol, rtol = tol).integral[1]\n",
    "    return nb(k)/(256*pi^3*k)*result\n",
    "end\n",
    "\n",
    "\n",
    "function Jp(k)\n",
    "    xmax = 10\n",
    "    function boundary1(x)\n",
    "        return abs(2*k-x)\n",
    "    end\n",
    "    function boundary2(x)\n",
    "        return x\n",
    "    end\n",
    "    function integrand(xx,ff)\n",
    "        x,y=xx\n",
    "        varchangex = (xmax-k)*x+xmax\n",
    "        varchangey = (boundary2(varchangex)-boundary1(varchangex))*y+boundary1(varchangex)\n",
    "        ff[1] = (xmax-k)*(boundary2(varchangex)-boundary1(varchangex))*(nb(varchangex-k)-nb(varchangex))*(varchangey^2-varchangex^2)*(1/3*(2*M1p(varchangex,varchangey)-varchangey)-(varchangey^2-3*(varchangex-2*k)^2)*(12*M3p(varchangex,varchangey)+6*varchangey*M2p(varchangex,varchangey)+varchangey^2*M1p(varchangex,varchangey))/6/varchangey^4)\n",
    "    end\n",
    "    result = cuhre(integrand,atol = tol, rtol = tol).integral[1]\n",
    "    return nb(k)/(256*pi^3*k)*result\n",
    "end\n",
    "\n",
    "\n",
    "function Jm(k)\n",
    "    xmax = 10\n",
    "    function boundary1(x)\n",
    "        return abs(2*k-x)\n",
    "    end\n",
    "    function boundary2(x)\n",
    "        return x\n",
    "    end\n",
    "    function integrand(xx,ff)\n",
    "        x,y=xx\n",
    "        varchangex = (xmax-k)*x+xmax\n",
    "        varchangey = (boundary2(varchangex)-boundary1(varchangex))*y+boundary1(varchangex)\n",
    "        ff[1] = (xmax-k)*(boundary2(varchangex)-boundary1(varchangex))*(nb(varchangex-k)-nb(varchangex))*(varchangey^2-varchangex^2)*(1/3*(2*M1m(varchangex,varchangey)-varchangey)-(varchangey^2-3*(varchangex-2*k)^2)*(12*M3m(varchangex,varchangey)+6*varchangey*M2m(varchangex,varchangey)+varchangey^2*M1m(varchangex,varchangey))/6/varchangey^4)\n",
    "    end\n",
    "    result = cuhre(integrand,atol = tol, rtol = tol).integral[1]\n",
    "    return nb(k)/(256*pi^3*k)*result\n",
    "end\n",
    "     \n",
    "\n",
    "function K(k)\n",
    "    xmin = -10\n",
    "    function boundary1(x)\n",
    "        return abs(x)\n",
    "    end\n",
    "    function boundary2(x)\n",
    "        return 2*k-x\n",
    "    end\n",
    "    function integrand(xx,ff)\n",
    "        x,y=xx\n",
    "        varchangex = (k-xmin)*x+xmin\n",
    "        varchangey = (boundary2(varchangex)-boundary1(varchangex))*y+boundary1(varchangex)\n",
    "        ff[1] = (k-xmin)*(boundary2(varchangex)-boundary1(varchangex))*(1+nb(varchangex)+nb(k-varchangex))*L1m(varchangex,varchangey)*(varchangey^2-varchangex^2)\n",
    "    end\n",
    "    result = cuhre(integrand,atol = tol, rtol = tol).integral[1]\n",
    "    return -nb(k)/(256*pi^3*k)*result\n",
    "end\n",
    "\n",
    "\n",
    "function L(k)\n",
    "    xmax = 10\n",
    "    function boundary1(x)\n",
    "        return abs(2*k-x)\n",
    "    end\n",
    "    function boundary2(x)\n",
    "        return x\n",
    "    end\n",
    "    function integrand(xx,ff)\n",
    "        x,y=xx\n",
    "        varchangex = (xmax-k)*x+xmax\n",
    "        varchangey = (boundary2(varchangex)-boundary1(varchangex))*y+boundary1(varchangex)\n",
    "        ff[1] = (xmax-k)*(boundary2(varchangex)-boundary1(varchangex))*(nb(varchangex-k)-nb(varchangex))*(2*M1m(varchangex,varchangey)-varchangey)*(varchangey^2-varchangex^2)\n",
    "    end\n",
    "    result = cuhre(integrand,atol = tol, rtol = tol).integral[1]\n",
    "    return nb(k)/(256*pi^3*k)*result\n",
    "end\n",
    "\n",
    "\n",
    "\n",
    "\n",
    "\n",
    "\n",
    "\n",
    "################ Define the eta functions ###################\n",
    "\n",
    "function etagg(k)\n",
    "    return -4*(Ip(k)+Jp(k))\n",
    "end\n",
    "\n",
    "function etasg(k)\n",
    "    return -(Ip(k)+Jp(k))\n",
    "end\n",
    "\n",
    "function etasf(k)\n",
    "    return 4*K(k)+2*L(k)\n",
    "end\n",
    "\n",
    "function etafg(k)\n",
    "    return 4*(Im(k)+Jm(k))\n",
    "end\n"
   ]
  },
  {
   "cell_type": "code",
   "execution_count": 60,
   "metadata": {},
   "outputs": [
    {
     "name": "stdout",
     "output_type": "stream",
     "text": [
      "0.0007063042782790742\n",
      "\n",
      "0.14344286918640137 sec\n"
     ]
    }
   ],
   "source": [
    "start_time=time()\n",
    "println(etasf(1))\n",
    "println('\\n',time()-start_time, \" sec\")"
   ]
  }
 ],
 "metadata": {
  "kernelspec": {
   "display_name": "Julia 1.7.3",
   "language": "julia",
   "name": "julia-1.7"
  },
  "language_info": {
   "file_extension": ".jl",
   "mimetype": "application/julia",
   "name": "julia",
   "version": "1.7.3"
  }
 },
 "nbformat": 4,
 "nbformat_minor": 4
}
